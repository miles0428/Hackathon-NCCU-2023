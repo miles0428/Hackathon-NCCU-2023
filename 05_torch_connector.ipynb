{
 "cells": [
  {
   "cell_type": "markdown",
   "id": "secondary-copying",
   "metadata": {},
   "source": [
    "# Torch Connector and Hybrid QNNs\n",
    "\n",
    "This tutorial introduces the `TorchConnector` class, and demonstrates how it allows for a natural integration of any `NeuralNetwork` from Qiskit Machine Learning into a PyTorch workflow. `TorchConnector` takes a `NeuralNetwork` and makes it available as a PyTorch `Module`. The resulting module can be seamlessly incorporated into PyTorch classical architectures and trained jointly without additional considerations, enabling the development and testing of novel **hybrid quantum-classical** machine learning architectures.\n",
    "\n",
    "## Content:\n",
    "\n",
    "[Part 1: Simple Classification & Regression](#Part-1:-Simple-Classification-&-Regression)\n",
    "\n",
    "The first part of this tutorial shows how quantum neural networks can be trained using PyTorch's automatic differentiation engine (`torch.autograd`, [link](https://pytorch.org/tutorials/beginner/blitz/autograd_tutorial.html)) for simple classification and regression tasks. \n",
    "\n",
    "1. [Classification](#1.-Classification)\n",
    "    1. Classification with PyTorch and `EstimatorQNN`\n",
    "    2. Classification with PyTorch and `SamplerQNN`\n",
    "2. [Regression](#2.-Regression)\n",
    "    1. Regression with PyTorch and `EstimatorQNN`\n",
    "\n",
    "[Part 2: MNIST Classification, Hybrid QNNs](#Part-2:-MNIST-Classification,-Hybrid-QNNs)\n",
    "\n",
    "The second part of this tutorial illustrates how to embed a (Quantum) `NeuralNetwork` into a target PyTorch workflow (in this case, a typical CNN architecture) to classify MNIST data in a hybrid quantum-classical manner.\n",
    "\n",
    "***"
   ]
  },
  {
   "cell_type": "code",
   "execution_count": 5,
   "id": "83f47718",
   "metadata": {},
   "outputs": [],
   "source": [
    "import os\n",
    "os.environ[\"KMP_DUPLICATE_LIB_OK\"]=\"TRUE\"\n",
    "import numpy as np\n",
    "import matplotlib.pyplot as plt\n",
    "\n",
    "import torch\n",
    "from torch.autograd import Function\n",
    "from torchvision import datasets, transforms\n",
    "import torch.optim as optim\n",
    "import torch.nn as nn\n",
    "import torch.nn.functional as F\n",
    "\n",
    "import qiskit\n",
    "from qiskit import transpile, assemble\n",
    "from qiskit.visualization import *"
   ]
  },
  {
   "cell_type": "code",
   "execution_count": 3,
   "id": "banned-helicopter",
   "metadata": {},
   "outputs": [],
   "source": [
    "# Necessary imports\n",
    "\n",
    "import numpy as np\n",
    "import matplotlib.pyplot as plt\n",
    "\n",
    "from torch import Tensor\n",
    "from torch.nn import Linear, CrossEntropyLoss, MSELoss\n",
    "from torch.optim import LBFGS\n",
    "\n",
    "from qiskit import QuantumCircuit\n",
    "from qiskit.circuit import Parameter\n",
    "from qiskit.circuit.library import RealAmplitudes, ZZFeatureMap\n",
    "from qiskit_algorithms.utils import algorithm_globals\n",
    "from qiskit_machine_learning.neural_networks import SamplerQNN, EstimatorQNN\n",
    "from qiskit_machine_learning.connectors import TorchConnector\n",
    "\n",
    "# Set seed for random generators\n",
    "algorithm_globals.random_seed = 42"
   ]
  },
  {
   "cell_type": "markdown",
   "id": "unique-snapshot",
   "metadata": {},
   "source": [
    "## Part 1: Simple Classification & Regression"
   ]
  },
  {
   "cell_type": "markdown",
   "id": "surgical-penetration",
   "metadata": {},
   "source": [
    "### 1. Classification\n",
    "\n",
    "First, we show how `TorchConnector` allows to train a Quantum `NeuralNetwork` to solve a classification tasks using PyTorch's automatic differentiation engine. In order to illustrate this, we will perform **binary classification** on a randomly generated dataset."
   ]
  },
  {
   "cell_type": "code",
   "execution_count": 4,
   "id": "secure-tragedy",
   "metadata": {},
   "outputs": [
    {
     "data": {
      "image/png": "[encoded data removed]",
      "text/plain": [
       "<Figure size 432x288 with 1 Axes>"
      ]
     },
     "metadata": {
      "needs_background": "light"
     },
     "output_type": "display_data"
    }
   ],
   "source": [
    "# Generate random dataset\n",
    "\n",
    "# Select dataset dimension (num_inputs) and size (num_samples)\n",
    "num_inputs = 2\n",
    "num_samples = 20\n",
    "\n",
    "# Generate random input coordinates (X) and binary labels (y)\n",
    "X = 2 * algorithm_globals.random.random([num_samples, num_inputs]) - 1\n",
    "y01 = 1 * (np.sum(X, axis=1) >= 0)  # in { 0,  1}, y01 will be used for SamplerQNN example\n",
    "y = 2 * y01 - 1  # in {-1, +1}, y will be used for EstimatorQNN example\n",
    "\n",
    "# Convert to torch Tensors\n",
    "X_ = Tensor(X)\n",
    "y01_ = Tensor(y01).reshape(len(y)).long()\n",
    "y_ = Tensor(y).reshape(len(y), 1)\n",
    "\n",
    "# Plot dataset\n",
    "for x, y_target in zip(X, y):\n",
    "    if y_target == 1:\n",
    "        plt.plot(x[0], x[1], \"bo\")\n",
    "    else:\n",
    "        plt.plot(x[0], x[1], \"go\")\n",
    "plt.plot([-1, 1], [1, -1], \"--\", color=\"black\")\n",
    "plt.show()"
   ]
  },
  {
   "cell_type": "markdown",
   "id": "hazardous-rehabilitation",
   "metadata": {},
   "source": [
    "#### A. Classification with PyTorch and  `EstimatorQNN`\n",
    "\n",
    "Linking an `EstimatorQNN` to PyTorch is relatively straightforward. Here we illustrate this by using the `EstimatorQNN` constructed from a feature map and an ansatz."
   ]
  },
  {
   "cell_type": "code",
   "execution_count": 5,
   "id": "fewer-desperate",
   "metadata": {},
   "outputs": [
    {
     "data": {
      "image/png": "[encoded data removed]",
      "text/plain": [
       "<Figure size 507.852x144.48 with 1 Axes>"
      ]
     },
     "execution_count": 5,
     "metadata": {},
     "output_type": "execute_result"
    }
   ],
   "source": [
    "# Set up a circuit\n",
    "feature_map = ZZFeatureMap(num_inputs)\n",
    "ansatz = RealAmplitudes(num_inputs)\n",
    "qc = QuantumCircuit(num_inputs)\n",
    "qc.compose(feature_map, inplace=True)\n",
    "qc.compose(ansatz, inplace=True)\n",
    "qc.draw(\"mpl\")"
   ]
  },
  {
   "cell_type": "code",
   "execution_count": 6,
   "id": "humanitarian-flavor",
   "metadata": {},
   "outputs": [
    {
     "name": "stdout",
     "output_type": "stream",
     "text": [
      "Initial weights:  [-0.01256962  0.06653564  0.04005302 -0.03752667  0.06645196  0.06095287\n",
      " -0.02250432 -0.04233438]\n"
     ]
    }
   ],
   "source": [
    "# Setup QNN\n",
    "qnn1 = EstimatorQNN(\n",
    "    circuit=qc, input_params=feature_map.parameters, weight_params=ansatz.parameters\n",
    ")\n",
    "\n",
    "# Set up PyTorch module\n",
    "# Note: If we don't explicitly declare the initial weights\n",
    "# they are chosen uniformly at random from [-1, 1].\n",
    "initial_weights = 0.1 * (2 * algorithm_globals.random.random(qnn1.num_weights) - 1)\n",
    "model1 = TorchConnector(qnn1, initial_weights=initial_weights)\n",
    "print(\"Initial weights: \", initial_weights)"
   ]
  },
  {
   "cell_type": "code",
   "execution_count": 7,
   "id": "likely-grace",
   "metadata": {},
   "outputs": [
    {
     "data": {
      "text/plain": [
       "tensor([-0.3285], grad_fn=<_TorchNNFunctionBackward>)"
      ]
     },
     "execution_count": 7,
     "metadata": {},
     "output_type": "execute_result"
    }
   ],
   "source": [
    "# Test with a single input\n",
    "model1(X_[0, :])"
   ]
  },
  {
   "cell_type": "markdown",
   "id": "gorgeous-segment",
   "metadata": {},
   "source": [
    "##### Optimizer\n",
    "The choice of optimizer for training any machine learning model can be crucial in determining the success of our training's outcome. When using `TorchConnector`, we get access to all of the optimizer algorithms defined in the [`torch.optim`] package ([link](https://pytorch.org/docs/stable/optim.html)). Some of the most famous algorithms used in popular machine learning architectures include *Adam*, *SGD*, or *Adagrad*. However, for this tutorial we will be using the L-BFGS algorithm (`torch.optim.LBFGS`), one of the most well know second-order optimization algorithms for numerical optimization. \n",
    "\n",
    "##### Loss Function\n",
    "As for the loss function, we can also take advantage of PyTorch's pre-defined modules from `torch.nn`, such as the [Cross-Entropy](https://pytorch.org/docs/stable/generated/torch.nn.CrossEntropyLoss.html) or [Mean Squared Error](https://pytorch.org/docs/stable/generated/torch.nn.MSELoss.html) losses.\n",
    "\n",
    "\n",
    "**💡 Clarification :** \n",
    "In classical machine learning, the general rule of thumb is to apply a Cross-Entropy loss to classification tasks, and MSE loss to regression tasks. However, this recommendation is given under the assumption that the output of the classification network is a class probability value in the $[0, 1]$ range (usually this is achieved  through a Softmax layer). Because the following example for `EstimatorQNN` does not include such layer, and we don't apply any mapping to the output (the following section shows an example of application of parity mapping with `SamplerQNN`s), the QNN's output can take any value in the range $[-1, 1]$. In case you were wondering, this is the reason why this particular example uses MSELoss for classification despite it not being the norm (but we encourage you to experiment with different loss functions and see how they can impact training results). "
   ]
  },
  {
   "cell_type": "code",
   "execution_count": 8,
   "id": "following-extension",
   "metadata": {},
   "outputs": [
    {
     "name": "stdout",
     "output_type": "stream",
     "text": [
      "25.535646438598633\n",
      "22.696760177612305\n",
      "20.039228439331055\n",
      "19.687908172607422\n",
      "19.267208099365234\n",
      "19.025373458862305\n",
      "18.154708862304688\n",
      "17.337854385375977\n",
      "19.082578659057617\n",
      "17.073287963867188\n",
      "16.21839141845703\n",
      "14.992582321166992\n",
      "14.929339408874512\n",
      "14.914533615112305\n",
      "14.907636642456055\n",
      "14.902364730834961\n",
      "14.902134895324707\n",
      "14.90211009979248\n",
      "14.902111053466797\n"
     ]
    },
    {
     "data": {
      "text/plain": [
       "tensor(25.5356, grad_fn=<MseLossBackward0>)"
      ]
     },
     "execution_count": 8,
     "metadata": {},
     "output_type": "execute_result"
    }
   ],
   "source": [
    "# Define optimizer and loss\n",
    "optimizer = LBFGS(model1.parameters())\n",
    "f_loss = MSELoss(reduction=\"sum\")\n",
    "\n",
    "# Start training\n",
    "model1.train()  # set model to training mode\n",
    "\n",
    "\n",
    "# Note from (https://pytorch.org/docs/stable/optim.html):\n",
    "# Some optimization algorithms such as LBFGS need to\n",
    "# reevaluate the function multiple times, so you have to\n",
    "# pass in a closure that allows them to recompute your model.\n",
    "# The closure should clear the gradients, compute the loss,\n",
    "# and return it.\n",
    "def closure():\n",
    "    optimizer.zero_grad()  # Initialize/clear gradients\n",
    "    loss = f_loss(model1(X_), y_)  # Evaluate loss function\n",
    "    loss.backward()  # Backward pass\n",
    "    print(loss.item())  # Print loss\n",
    "    return loss\n",
    "\n",
    "\n",
    "# Run optimizer step4\n",
    "optimizer.step(closure)"
   ]
  },
  {
   "cell_type": "code",
   "execution_count": 9,
   "id": "efficient-bangkok",
   "metadata": {},
   "outputs": [
    {
     "name": "stdout",
     "output_type": "stream",
     "text": [
      "Accuracy: 0.8\n"
     ]
    },
    {
     "data": {
      "image/png": "[encoded data removed]",
      "text/plain": [
       "<Figure size 432x288 with 1 Axes>"
      ]
     },
     "metadata": {
      "needs_background": "light"
     },
     "output_type": "display_data"
    }
   ],
   "source": [
    "# Evaluate model and compute accuracy\n",
    "model1.eval()\n",
    "y_predict = []\n",
    "for x, y_target in zip(X, y):\n",
    "    output = model1(Tensor(x))\n",
    "    y_predict += [np.sign(output.detach().numpy())[0]]\n",
    "\n",
    "print(\"Accuracy:\", sum(y_predict == y) / len(y))\n",
    "\n",
    "# Plot results\n",
    "# red == wrongly classified\n",
    "for x, y_target, y_p in zip(X, y, y_predict):\n",
    "    if y_target == 1:\n",
    "        plt.plot(x[0], x[1], \"bo\")\n",
    "    else:\n",
    "        plt.plot(x[0], x[1], \"go\")\n",
    "    if y_target != y_p:\n",
    "        plt.scatter(x[0], x[1], s=200, facecolors=\"none\", edgecolors=\"r\", linewidths=2)\n",
    "plt.plot([-1, 1], [1, -1], \"--\", color=\"black\")\n",
    "plt.show()"
   ]
  },
  {
   "cell_type": "markdown",
   "id": "abstract-parish",
   "metadata": {},
   "source": [
    "The red circles indicate wrongly classified data points."
   ]
  },
  {
   "cell_type": "markdown",
   "id": "typical-cross",
   "metadata": {},
   "source": [
    "#### B. Classification with PyTorch and `SamplerQNN`\n",
    "\n",
    "Linking a `SamplerQNN` to PyTorch requires a bit more attention than `EstimatorQNN`. Without the correct setup, backpropagation is not possible. \n",
    "\n",
    "In particular, we must make sure that we are returning a dense array of probabilities in the network's forward pass (`sparse=False`). This parameter is set up to `False` by default, so we just have to make sure that it has not been changed.\n",
    "\n",
    "**⚠️ Attention:** \n",
    "If we define a custom interpret function ( in the example: `parity`), we must remember to explicitly provide the desired output shape ( in the example: `2`). For more info on the initial parameter setup for `SamplerQNN`, please check out the [official qiskit documentation](https://qiskit.org/ecosystem/machine-learning/stubs/qiskit_machine_learning.neural_networks.SamplerQNN.html)."
   ]
  },
  {
   "cell_type": "code",
   "execution_count": 10,
   "id": "present-operator",
   "metadata": {},
   "outputs": [
    {
     "name": "stdout",
     "output_type": "stream",
     "text": [
      "Initial weights:  [ 0.0364991  -0.0720495  -0.06001836 -0.09852755]\n"
     ]
    }
   ],
   "source": [
    "# Define feature map and ansatz\n",
    "feature_map = ZZFeatureMap(num_inputs)\n",
    "ansatz = RealAmplitudes(num_inputs, entanglement=\"linear\", reps=1)\n",
    "\n",
    "# Define quantum circuit of num_qubits = input dim\n",
    "# Append feature map and ansatz\n",
    "qc = QuantumCircuit(num_inputs)\n",
    "qc.compose(feature_map, inplace=True)\n",
    "qc.compose(ansatz, inplace=True)\n",
    "\n",
    "# Define SamplerQNN and initial setup\n",
    "parity = lambda x: \"{:b}\".format(x).count(\"1\") % 2  # optional interpret function\n",
    "output_shape = 2  # parity = 0, 1\n",
    "qnn2 = SamplerQNN(\n",
    "    circuit=qc,\n",
    "    input_params=feature_map.parameters,\n",
    "    weight_params=ansatz.parameters,\n",
    "    interpret=parity,\n",
    "    output_shape=output_shape,\n",
    ")\n",
    "\n",
    "# Set up PyTorch module\n",
    "# Reminder: If we don't explicitly declare the initial weights\n",
    "# they are chosen uniformly at random from [-1, 1].\n",
    "initial_weights = 0.1 * (2 * algorithm_globals.random.random(qnn2.num_weights) - 1)\n",
    "print(\"Initial weights: \", initial_weights)\n",
    "model2 = TorchConnector(qnn2, initial_weights)"
   ]
  },
  {
   "cell_type": "markdown",
   "id": "liquid-reviewer",
   "metadata": {},
   "source": [
    "For a reminder on optimizer and loss function choices, you can go back to [this section](#Optimizer)."
   ]
  },
  {
   "cell_type": "code",
   "execution_count": 11,
   "id": "marked-harvest",
   "metadata": {},
   "outputs": [
    {
     "name": "stdout",
     "output_type": "stream",
     "text": [
      "0.6925069093704224\n",
      "0.6881508231163025\n",
      "0.6516683101654053\n",
      "0.6485998034477234\n",
      "0.6394743919372559\n",
      "0.7057444453239441\n",
      "0.669085681438446\n",
      "0.766187310218811\n",
      "0.7188469171524048\n",
      "0.7919709086418152\n",
      "0.7598814964294434\n",
      "0.7028256058692932\n",
      "0.7486447095870972\n",
      "0.6890242695808411\n",
      "0.7760348916053772\n",
      "0.7892935276031494\n",
      "0.7556288242340088\n",
      "0.7058126330375671\n",
      "0.7203161716461182\n",
      "0.7030722498893738\n"
     ]
    }
   ],
   "source": [
    "# Define model, optimizer, and loss\n",
    "optimizer = LBFGS(model2.parameters())\n",
    "f_loss = CrossEntropyLoss()  # Our output will be in the [0,1] range\n",
    "\n",
    "# Start training\n",
    "model2.train()\n",
    "\n",
    "# Define LBFGS closure method (explained in previous section)\n",
    "def closure():\n",
    "    optimizer.zero_grad(set_to_none=True)  # Initialize gradient\n",
    "    loss = f_loss(model2(X_), y01_)  # Calculate loss\n",
    "    loss.backward()  # Backward pass\n",
    "\n",
    "    print(loss.item())  # Print loss\n",
    "    return loss\n",
    "\n",
    "\n",
    "# Run optimizer (LBFGS requires closure)\n",
    "optimizer.step(closure);"
   ]
  },
  {
   "cell_type": "code",
   "execution_count": 12,
   "id": "falling-electronics",
   "metadata": {},
   "outputs": [
    {
     "name": "stdout",
     "output_type": "stream",
     "text": [
      "Accuracy: 0.5\n"
     ]
    },
    {
     "data": {
      "image/png": "[encoded data removed]",
      "text/plain": [
       "<Figure size 432x288 with 1 Axes>"
      ]
     },
     "metadata": {
      "needs_background": "light"
     },
     "output_type": "display_data"
    }
   ],
   "source": [
    "# Evaluate model and compute accuracy\n",
    "model2.eval()\n",
    "y_predict = []\n",
    "for x in X:\n",
    "    output = model2(Tensor(x))\n",
    "    y_predict += [np.argmax(output.detach().numpy())]\n",
    "\n",
    "print(\"Accuracy:\", sum(y_predict == y01) / len(y01))\n",
    "\n",
    "# plot results\n",
    "# red == wrongly classified\n",
    "for x, y_target, y_ in zip(X, y01, y_predict):\n",
    "    if y_target == 1:\n",
    "        plt.plot(x[0], x[1], \"bo\")\n",
    "    else:\n",
    "        plt.plot(x[0], x[1], \"go\")\n",
    "    if y_target != y_:\n",
    "        plt.scatter(x[0], x[1], s=200, facecolors=\"none\", edgecolors=\"r\", linewidths=2)\n",
    "plt.plot([-1, 1], [1, -1], \"--\", color=\"black\")\n",
    "plt.show()"
   ]
  },
  {
   "cell_type": "markdown",
   "id": "aboriginal-white",
   "metadata": {},
   "source": [
    "The red circles indicate wrongly classified data points."
   ]
  },
  {
   "cell_type": "markdown",
   "id": "scheduled-nicaragua",
   "metadata": {},
   "source": [
    "### 2. Regression \n",
    "\n",
    "We use a model based on the `EstimatorQNN` to also illustrate how to perform a regression task. The chosen dataset in this case is randomly generated following a sine wave. "
   ]
  },
  {
   "cell_type": "code",
   "execution_count": 13,
   "id": "amateur-dubai",
   "metadata": {},
   "outputs": [
    {
     "data": {
      "image/png": "[encoded data removed]",
      "text/plain": [
       "<Figure size 432x288 with 1 Axes>"
      ]
     },
     "metadata": {
      "needs_background": "light"
     },
     "output_type": "display_data"
    }
   ],
   "source": [
    "# Generate random dataset\n",
    "\n",
    "num_samples = 20\n",
    "eps = 0.2\n",
    "lb, ub = -np.pi, np.pi\n",
    "f = lambda x: np.sin(x)\n",
    "\n",
    "X = (ub - lb) * algorithm_globals.random.random([num_samples, 1]) + lb\n",
    "y = f(X) + eps * (2 * algorithm_globals.random.random([num_samples, 1]) - 1)\n",
    "plt.plot(np.linspace(lb, ub), f(np.linspace(lb, ub)), \"r--\")\n",
    "plt.plot(X, y, \"bo\")\n",
    "plt.show()"
   ]
  },
  {
   "cell_type": "markdown",
   "id": "protected-genre",
   "metadata": {},
   "source": [
    "#### A. Regression with PyTorch and `EstimatorQNN`"
   ]
  },
  {
   "cell_type": "markdown",
   "id": "lovely-semiconductor",
   "metadata": {},
   "source": [
    "The network definition and training loop will be analogous to those of the classification task using `EstimatorQNN`. In this case, we define our own feature map and ansatz, but let's do it a little different."
   ]
  },
  {
   "cell_type": "code",
   "execution_count": 14,
   "id": "brazilian-adapter",
   "metadata": {},
   "outputs": [],
   "source": [
    "# Construct simple feature map\n",
    "param_x = Parameter(\"x\")\n",
    "feature_map = QuantumCircuit(1, name=\"fm\")\n",
    "feature_map.ry(param_x, 0)\n",
    "\n",
    "# Construct simple parameterized ansatz\n",
    "param_y = Parameter(\"y\")\n",
    "ansatz = QuantumCircuit(1, name=\"vf\")\n",
    "ansatz.ry(param_y, 0)\n",
    "\n",
    "qc = QuantumCircuit(1)\n",
    "qc.compose(feature_map, inplace=True)\n",
    "qc.compose(ansatz, inplace=True)\n",
    "\n",
    "# Construct QNN\n",
    "qnn3 = EstimatorQNN(circuit=qc, input_params=[param_x], weight_params=[param_y])\n",
    "\n",
    "# Set up PyTorch module\n",
    "# Reminder: If we don't explicitly declare the initial weights\n",
    "# they are chosen uniformly at random from [-1, 1].\n",
    "initial_weights = 0.1 * (2 * algorithm_globals.random.random(qnn3.num_weights) - 1)\n",
    "model3 = TorchConnector(qnn3, initial_weights)"
   ]
  },
  {
   "cell_type": "markdown",
   "id": "waiting-competition",
   "metadata": {},
   "source": [
    "For a reminder on optimizer and loss function choices, you can go back to [this section](#Optimizer)."
   ]
  },
  {
   "cell_type": "code",
   "execution_count": 15,
   "id": "bibliographic-consciousness",
   "metadata": {},
   "outputs": [
    {
     "name": "stdout",
     "output_type": "stream",
     "text": [
      "14.947757720947266\n",
      "2.948650360107422\n",
      "8.952412605285645\n",
      "0.37905153632164\n",
      "0.24995625019073486\n",
      "0.2483610212802887\n",
      "0.24835753440856934\n"
     ]
    },
    {
     "data": {
      "text/plain": [
       "tensor(14.9478, grad_fn=<MseLossBackward0>)"
      ]
     },
     "execution_count": 15,
     "metadata": {},
     "output_type": "execute_result"
    }
   ],
   "source": [
    "# Define optimizer and loss function\n",
    "optimizer = LBFGS(model3.parameters())\n",
    "f_loss = MSELoss(reduction=\"sum\")\n",
    "\n",
    "# Start training\n",
    "model3.train()  # set model to training mode\n",
    "\n",
    "# Define objective function\n",
    "def closure():\n",
    "    optimizer.zero_grad(set_to_none=True)  # Initialize gradient\n",
    "    loss = f_loss(model3(Tensor(X)), Tensor(y))  # Compute batch loss\n",
    "    loss.backward()  # Backward pass\n",
    "    print(loss.item())  # Print loss\n",
    "    return loss\n",
    "\n",
    "\n",
    "# Run optimizer\n",
    "optimizer.step(closure)"
   ]
  },
  {
   "cell_type": "code",
   "execution_count": 16,
   "id": "timely-happiness",
   "metadata": {},
   "outputs": [
    {
     "data": {
      "image/png": "[encoded data removed]",
      "text/plain": [
       "<Figure size 432x288 with 1 Axes>"
      ]
     },
     "metadata": {
      "needs_background": "light"
     },
     "output_type": "display_data"
    }
   ],
   "source": [
    "# Plot target function\n",
    "plt.plot(np.linspace(lb, ub), f(np.linspace(lb, ub)), \"r--\")\n",
    "\n",
    "# Plot data\n",
    "plt.plot(X, y, \"bo\")\n",
    "\n",
    "# Plot fitted line\n",
    "model3.eval()\n",
    "y_ = []\n",
    "for x in np.linspace(lb, ub):\n",
    "    output = model3(Tensor([x]))\n",
    "    y_ += [output.detach().numpy()[0]]\n",
    "plt.plot(np.linspace(lb, ub), y_, \"g-\")\n",
    "plt.show()"
   ]
  },
  {
   "cell_type": "markdown",
   "id": "individual-georgia",
   "metadata": {},
   "source": [
    "***\n",
    "\n",
    "## Part 2: MNIST Classification, Hybrid QNNs\n",
    "\n",
    "In this second part, we show how to leverage a hybrid quantum-classical neural network using `TorchConnector`, to perform a more complex image classification task on the MNIST handwritten digits dataset. \n",
    "\n",
    "For a more detailed (pre-`TorchConnector`) explanation on hybrid quantum-classical neural networks, you can check out the corresponding section in the [Qiskit Textbook](https://qiskit.org/textbook/ch-machine-learning/machine-learning-qiskit-pytorch.html)."
   ]
  },
  {
   "cell_type": "code",
   "execution_count": 17,
   "id": "otherwise-military",
   "metadata": {},
   "outputs": [],
   "source": [
    "# Additional torch-related imports\n",
    "import torch\n",
    "from torch import cat, no_grad, manual_seed\n",
    "from torch.utils.data import DataLoader\n",
    "from torchvision import datasets, transforms\n",
    "import torch.optim as optim\n",
    "from torch.nn import (\n",
    "    Module,\n",
    "    Conv2d,\n",
    "    Linear,\n",
    "    Dropout2d,\n",
    "    NLLLoss,\n",
    "    MaxPool2d,\n",
    "    Flatten,\n",
    "    Sequential,\n",
    "    ReLU,\n",
    ")\n",
    "import torch.nn.functional as F"
   ]
  },
  {
   "cell_type": "markdown",
   "id": "bronze-encounter",
   "metadata": {},
   "source": [
    "### Step 1: Defining Data-loaders for train and test"
   ]
  },
  {
   "cell_type": "markdown",
   "id": "parliamentary-middle",
   "metadata": {},
   "source": [
    "We take advantage of the `torchvision` [API](https://pytorch.org/vision/stable/datasets.html) to directly load a subset of the [MNIST dataset](https://en.wikipedia.org/wiki/MNIST_database) and define torch `DataLoader`s ([link](https://pytorch.org/docs/stable/data.html)) for train and test."
   ]
  },
  {
   "cell_type": "code",
   "execution_count": 18,
   "id": "worthy-charlotte",
   "metadata": {},
   "outputs": [],
   "source": [
    "# Train Dataset\n",
    "# -------------\n",
    "\n",
    "# Set train shuffle seed (for reproducibility)\n",
    "manual_seed(42)\n",
    "\n",
    "batch_size = 1\n",
    "n_samples = 100  # We will concentrate on the first 100 samples\n",
    "\n",
    "# Use pre-defined torchvision function to load MNIST train data\n",
    "X_train = datasets.MNIST(\n",
    "    root=\"./data\", train=True, download=True, transform=transforms.Compose([transforms.ToTensor()])\n",
    ")\n",
    "\n",
    "# Filter out labels (originally 0-9), leaving only labels 0 and 1\n",
    "idx = np.append(\n",
    "    np.where(X_train.targets == 0)[0][:n_samples], np.where(X_train.targets == 1)[0][:n_samples]\n",
    ")\n",
    "X_train.data = X_train.data[idx]\n",
    "X_train.targets = X_train.targets[idx]\n",
    "\n",
    "# Define torch dataloader with filtered data\n",
    "train_loader = DataLoader(X_train, batch_size=batch_size, shuffle=True)"
   ]
  },
  {
   "cell_type": "markdown",
   "id": "completed-spring",
   "metadata": {},
   "source": [
    "If we perform a quick visualization we can see that the train dataset consists of images of handwritten 0s and 1s."
   ]
  },
  {
   "cell_type": "code",
   "execution_count": 19,
   "id": "medieval-bibliography",
   "metadata": {},
   "outputs": [
    {
     "data": {
      "image/png": "[encoded data removed]",
      "text/plain": [
       "<Figure size 720x216 with 6 Axes>"
      ]
     },
     "metadata": {},
     "output_type": "display_data"
    }
   ],
   "source": [
    "n_samples_show = 6\n",
    "\n",
    "data_iter = iter(train_loader)\n",
    "fig, axes = plt.subplots(nrows=1, ncols=n_samples_show, figsize=(10, 3))\n",
    "\n",
    "while n_samples_show > 0:\n",
    "    images, targets = data_iter.__next__()\n",
    "\n",
    "    axes[n_samples_show - 1].imshow(images[0, 0].numpy().squeeze(), cmap=\"gray\")\n",
    "    axes[n_samples_show - 1].set_xticks([])\n",
    "    axes[n_samples_show - 1].set_yticks([])\n",
    "    axes[n_samples_show - 1].set_title(\"Labeled: {}\".format(targets[0].item()))\n",
    "\n",
    "    n_samples_show -= 1"
   ]
  },
  {
   "cell_type": "code",
   "execution_count": 20,
   "id": "structural-chuck",
   "metadata": {},
   "outputs": [],
   "source": [
    "# Test Dataset\n",
    "# -------------\n",
    "\n",
    "# Set test shuffle seed (for reproducibility)\n",
    "# manual_seed(5)\n",
    "\n",
    "n_samples = 50\n",
    "\n",
    "# Use pre-defined torchvision function to load MNIST test data\n",
    "X_test = datasets.MNIST(\n",
    "    root=\"./data\", train=False, download=True, transform=transforms.Compose([transforms.ToTensor()])\n",
    ")\n",
    "\n",
    "# Filter out labels (originally 0-9), leaving only labels 0 and 1\n",
    "idx = np.append(\n",
    "    np.where(X_test.targets == 0)[0][:n_samples], np.where(X_test.targets == 1)[0][:n_samples]\n",
    ")\n",
    "X_test.data = X_test.data[idx]\n",
    "X_test.targets = X_test.targets[idx]\n",
    "\n",
    "# Define torch dataloader with filtered data\n",
    "test_loader = DataLoader(X_test, batch_size=batch_size, shuffle=True)"
   ]
  },
  {
   "cell_type": "markdown",
   "id": "abroad-morris",
   "metadata": {},
   "source": [
    "### Step 2: Defining the QNN and Hybrid Model"
   ]
  },
  {
   "cell_type": "markdown",
   "id": "super-tokyo",
   "metadata": {},
   "source": [
    "This second step shows the power of the `TorchConnector`. After defining our quantum neural network layer (in this case, a `EstimatorQNN`), we can embed it into a layer in our torch `Module` by initializing a torch connector as `TorchConnector(qnn)`.\n",
    "\n",
    "**⚠️ Attention:**\n",
    "In order to have an adequate gradient backpropagation in hybrid models,  we MUST set the initial parameter `input_gradients` to TRUE during the qnn initialization."
   ]
  },
  {
   "cell_type": "code",
   "execution_count": 21,
   "id": "urban-purse",
   "metadata": {},
   "outputs": [],
   "source": [
    "# Define and create QNN\n",
    "def create_qnn():\n",
    "    feature_map = ZZFeatureMap(2)\n",
    "    ansatz = RealAmplitudes(2, reps=1)\n",
    "    qc = QuantumCircuit(2)\n",
    "    qc.compose(feature_map, inplace=True)\n",
    "    qc.compose(ansatz, inplace=True)\n",
    "\n",
    "    # REMEMBER TO SET input_gradients=True FOR ENABLING HYBRID GRADIENT BACKPROP\n",
    "    qnn = EstimatorQNN(\n",
    "        circuit=qc,\n",
    "        input_params=feature_map.parameters,\n",
    "        weight_params=ansatz.parameters,\n",
    "        input_gradients=True,\n",
    "    )\n",
    "    return qnn\n",
    "\n",
    "\n",
    "qnn4 = create_qnn()"
   ]
  },
  {
   "cell_type": "code",
   "execution_count": 23,
   "id": "2fffbd7b",
   "metadata": {},
   "outputs": [],
   "source": [
    "import torch\n",
    "import torch.nn as nn  \n",
    "class QuantumConvLayer(nn.Module):\n",
    "    def __init__(self, qubits, depth):\n",
    "        super().__init__()\n",
    "        self.qubits = qubits\n",
    "        self.depth = depth\n",
    "        # 初始化量子电路等\n",
    "\n",
    "    def forward(self, x):\n",
    "        # 在这里实现量子卷积操作\n",
    "        # x 是输入数据\n",
    "        return quantum_convolved_x"
   ]
  },
  {
   "cell_type": "code",
   "execution_count": 31,
   "id": "exclusive-productivity",
   "metadata": {},
   "outputs": [],
   "source": [
    "# Define torch NN module\n",
    "class Net(Module):\n",
    "    def __init__(self, qnn):\n",
    "        super().__init__()\n",
    "        self.conv1 = Conv2d(1, 2, kernel_size=5)\n",
    "        self.qconv1 = QuantumConvLayer(qubits=4, depth=2)\n",
    "        self.conv2 = Conv2d(2, 16, kernel_size=5)\n",
    "        self.dropout = Dropout2d()\n",
    "        self.fc1 = Linear(256, 64)\n",
    "        self.fc2 = Linear(64, 2)  # 2-dimensional input to QNN\n",
    "        self.qnn = TorchConnector(qnn)  # Apply torch connector, weights chosen\n",
    "        # uniformly at random from interval [-1,1].\n",
    "        self.fc3 = Linear(1, 1)  # 1-dimensional output from QNN\n",
    "\n",
    "    def forward(self, x):\n",
    "        x = F.relu(self.conv1(x))\n",
    "        x = F.max_pool2d(x, 2)\n",
    "        x = F.relu(self.conv2(x))\n",
    "        x = F.max_pool2d(x, 2)\n",
    "        x = self.dropout(x)\n",
    "        x = x.view(x.shape[0], -1)\n",
    "        x = F.relu(self.fc1(x))\n",
    "        x = self.fc2(x)\n",
    "        x = self.qnn(x)  # apply QNN\n",
    "        x = self.fc3(x)\n",
    "        return cat((x, 1 - x), -1)\n",
    "\n",
    "\n",
    "model4 = Net(qnn4)"
   ]
  },
  {
   "cell_type": "markdown",
   "id": "academic-specific",
   "metadata": {},
   "source": [
    "### Step 3: Training"
   ]
  },
  {
   "cell_type": "code",
   "execution_count": 32,
   "id": "precious-career",
   "metadata": {},
   "outputs": [
    {
     "name": "stdout",
     "output_type": "stream",
     "text": [
      "Training [10%]\tLoss: -0.6007\n",
      "Training [20%]\tLoss: -1.0008\n",
      "Training [30%]\tLoss: -1.3184\n",
      "Training [40%]\tLoss: -1.4133\n",
      "Training [50%]\tLoss: -1.7793\n",
      "Training [60%]\tLoss: -1.9793\n",
      "Training [70%]\tLoss: -2.2345\n",
      "Training [80%]\tLoss: -2.0681\n",
      "Training [90%]\tLoss: -2.6664\n",
      "Training [100%]\tLoss: -2.8805\n"
     ]
    }
   ],
   "source": [
    "# Define model, optimizer, and loss function\n",
    "optimizer = optim.Adam(model4.parameters(), lr=0.001)\n",
    "loss_func = NLLLoss()\n",
    "\n",
    "# Start training\n",
    "epochs = 10  # Set number of epochs\n",
    "loss_list = []  # Store loss history\n",
    "model4.train()  # Set model to training mode\n",
    "\n",
    "for epoch in range(epochs):\n",
    "    total_loss = []\n",
    "    for batch_idx, (data, target) in enumerate(train_loader):\n",
    "        optimizer.zero_grad(set_to_none=True)  # Initialize gradient\n",
    "        output = model4(data)  # Forward pass\n",
    "        loss = loss_func(output, target)  # Calculate loss\n",
    "        loss.backward()  # Backward pass\n",
    "        optimizer.step()  # Optimize weights\n",
    "        total_loss.append(loss.item())  # Store loss\n",
    "    loss_list.append(sum(total_loss) / len(total_loss))\n",
    "    print(\"Training [{:.0f}%]\\tLoss: {:.4f}\".format(100.0 * (epoch + 1) / epochs, loss_list[-1]))"
   ]
  },
  {
   "cell_type": "code",
   "execution_count": 33,
   "id": "e85f20c1",
   "metadata": {},
   "outputs": [
    {
     "data": {
      "image/png": "[encoded data removed]",
      "text/plain": [
       "<Figure size 432x288 with 1 Axes>"
      ]
     },
     "metadata": {
      "needs_background": "light"
     },
     "output_type": "display_data"
    }
   ],
   "source": [
    "# Plot loss convergence\n",
    "plt.plot(loss_list)\n",
    "plt.title(\"Hybrid NN Training Convergence\")\n",
    "plt.xlabel(\"Training Iterations\")\n",
    "plt.ylabel(\"Neg. Log Likelihood Loss\")\n",
    "plt.show()"
   ]
  },
  {
   "cell_type": "code",
   "execution_count": 27,
   "id": "spoken-stationery",
   "metadata": {
    "scrolled": true
   },
   "outputs": [
    {
     "data": {
      "image/png": "[encoded data removed]",
      "text/plain": [
       "<Figure size 432x288 with 1 Axes>"
      ]
     },
     "metadata": {
      "needs_background": "light"
     },
     "output_type": "display_data"
    }
   ],
   "source": [
    "# Plot loss convergence\n",
    "plt.plot(loss_list)\n",
    "plt.title(\"Hybrid NN Training Convergence\")\n",
    "plt.xlabel(\"Training Iterations\")\n",
    "plt.ylabel(\"Neg. Log Likelihood Loss\")\n",
    "plt.show()"
   ]
  },
  {
   "cell_type": "markdown",
   "id": "physical-closure",
   "metadata": {},
   "source": [
    "Now we'll save the trained model, just to show how a hybrid model can be saved and re-used later for inference. To save and load hybrid models, when using the TorchConnector, follow the PyTorch recommendations of saving and loading the models."
   ]
  },
  {
   "cell_type": "code",
   "execution_count": 28,
   "id": "regulation-bread",
   "metadata": {},
   "outputs": [],
   "source": [
    "torch.save(model4.state_dict(), \"model4.pt\")"
   ]
  },
  {
   "cell_type": "markdown",
   "id": "pacific-flour",
   "metadata": {},
   "source": [
    "### Step 4: Evaluation"
   ]
  },
  {
   "cell_type": "markdown",
   "id": "fabulous-tribe",
   "metadata": {},
   "source": [
    "We start from recreating the model and loading the state from the previously saved file. You create a QNN layer using another simulator or a real hardware. So, you can train a model on real hardware available on the cloud and then for inference use a simulator or vice verse. For a sake of simplicity we create a new quantum neural network in the same way as above."
   ]
  },
  {
   "cell_type": "code",
   "execution_count": 34,
   "id": "prospective-flooring",
   "metadata": {},
   "outputs": [
    {
     "data": {
      "text/plain": [
       "<All keys matched successfully>"
      ]
     },
     "execution_count": 34,
     "metadata": {},
     "output_type": "execute_result"
    }
   ],
   "source": [
    "qnn5 = create_qnn()\n",
    "model5 = Net(qnn5)\n",
    "model5.load_state_dict(torch.load(\"model4.pt\"))"
   ]
  },
  {
   "cell_type": "code",
   "execution_count": 35,
   "id": "dd4d6d7e",
   "metadata": {},
   "outputs": [
    {
     "name": "stdout",
     "output_type": "stream",
     "text": [
      "Performance on test data:\n",
      "\tLoss: -3.0748\n",
      "\tAccuracy: 100.0%\n"
     ]
    }
   ],
   "source": [
    "model5.eval()  # set model to evaluation mode\n",
    "with no_grad():\n",
    "\n",
    "    correct = 0\n",
    "    for batch_idx, (data, target) in enumerate(test_loader):\n",
    "        output = model5(data)\n",
    "        if len(output.shape) == 1:\n",
    "            output = output.reshape(1, *output.shape)\n",
    "\n",
    "        pred = output.argmax(dim=1, keepdim=True)\n",
    "        correct += pred.eq(target.view_as(pred)).sum().item()\n",
    "\n",
    "        loss = loss_func(output, target)\n",
    "        total_loss.append(loss.item())\n",
    "\n",
    "    print(\n",
    "        \"Performance on test data:\\n\\tLoss: {:.4f}\\n\\tAccuracy: {:.1f}%\".format(\n",
    "            sum(total_loss) / len(total_loss), correct / len(test_loader) / batch_size * 100\n",
    "        )\n",
    "    )"
   ]
  },
  {
   "cell_type": "code",
   "execution_count": 25,
   "id": "spectacular-conservative",
   "metadata": {},
   "outputs": [
    {
     "name": "stdout",
     "output_type": "stream",
     "text": [
      "Performance on test data:\n",
      "\tLoss: -3.3585\n",
      "\tAccuracy: 100.0%\n"
     ]
    }
   ],
   "source": [
    "model5.eval()  # set model to evaluation mode\n",
    "with no_grad():\n",
    "\n",
    "    correct = 0\n",
    "    for batch_idx, (data, target) in enumerate(test_loader):\n",
    "        output = model5(data)\n",
    "        if len(output.shape) == 1:\n",
    "            output = output.reshape(1, *output.shape)\n",
    "\n",
    "        pred = output.argmax(dim=1, keepdim=True)\n",
    "        correct += pred.eq(target.view_as(pred)).sum().item()\n",
    "\n",
    "        loss = loss_func(output, target)\n",
    "        total_loss.append(loss.item())\n",
    "\n",
    "    print(\n",
    "        \"Performance on test data:\\n\\tLoss: {:.4f}\\n\\tAccuracy: {:.1f}%\".format(\n",
    "            sum(total_loss) / len(total_loss), correct / len(test_loader) / batch_size * 100\n",
    "        )\n",
    "    )"
   ]
  },
  {
   "cell_type": "code",
   "execution_count": 26,
   "id": "color-brave",
   "metadata": {
    "tags": [
     "nbsphinx-thumbnail"
    ]
   },
   "outputs": [
    {
     "data": {
      "image/png": "[encoded data removed]",
      "text/plain": [
       "<Figure size 720x216 with 6 Axes>"
      ]
     },
     "metadata": {},
     "output_type": "display_data"
    }
   ],
   "source": [
    "# Plot predicted labels\n",
    "\n",
    "n_samples_show = 6\n",
    "count = 0\n",
    "fig, axes = plt.subplots(nrows=1, ncols=n_samples_show, figsize=(10, 3))\n",
    "\n",
    "model5.eval()\n",
    "with no_grad():\n",
    "    for batch_idx, (data, target) in enumerate(test_loader):\n",
    "        if count == n_samples_show:\n",
    "            break\n",
    "        output = model5(data[0:1])\n",
    "        if len(output.shape) == 1:\n",
    "            output = output.reshape(1, *output.shape)\n",
    "\n",
    "        pred = output.argmax(dim=1, keepdim=True)\n",
    "\n",
    "        axes[count].imshow(data[0].numpy().squeeze(), cmap=\"gray\")\n",
    "\n",
    "        axes[count].set_xticks([])\n",
    "        axes[count].set_yticks([])\n",
    "        axes[count].set_title(\"Predicted {}\".format(pred.item()))\n",
    "\n",
    "        count += 1"
   ]
  },
  {
   "cell_type": "markdown",
   "id": "prompt-visibility",
   "metadata": {},
   "source": [
    "🎉🎉🎉🎉\n",
    "**You are now able to experiment with your own hybrid datasets and architectures using Qiskit Machine Learning.** \n",
    "**Good Luck!**"
   ]
  },
  {
   "cell_type": "code",
   "execution_count": 27,
   "id": "related-wheat",
   "metadata": {},
   "outputs": [
    {
     "data": {
      "text/html": [
       "<h3>Version Information</h3><table><tr><th>Qiskit Software</th><th>Version</th></tr><tr><td><code>qiskit-terra</code></td><td>0.22.0</td></tr><tr><td><code>qiskit-aer</code></td><td>0.11.1</td></tr><tr><td><code>qiskit-ignis</code></td><td>0.7.0</td></tr><tr><td><code>qiskit</code></td><td>0.33.0</td></tr><tr><td><code>qiskit-machine-learning</code></td><td>0.5.0</td></tr><tr><th>System information</th></tr><tr><td>Python version</td><td>3.7.9</td></tr><tr><td>Python compiler</td><td>MSC v.1916 64 bit (AMD64)</td></tr><tr><td>Python build</td><td>default, Aug 31 2020 17:10:11</td></tr><tr><td>OS</td><td>Windows</td></tr><tr><td>CPUs</td><td>4</td></tr><tr><td>Memory (Gb)</td><td>31.837730407714844</td></tr><tr><td colspan='2'>Thu Nov 03 09:57:38 2022 GMT Standard Time</td></tr></table>"
      ],
      "text/plain": [
       "<IPython.core.display.HTML object>"
      ]
     },
     "metadata": {},
     "output_type": "display_data"
    },
    {
     "data": {
      "text/html": [
       "<div style='width: 100%; background-color:#d5d9e0;padding-left: 10px; padding-bottom: 10px; padding-right: 10px; padding-top: 5px'><h3>This code is a part of Qiskit</h3><p>&copy; Copyright IBM 2017, 2022.</p><p>This code is licensed under the Apache License, Version 2.0. You may<br>obtain a copy of this license in the LICENSE.txt file in the root directory<br> of this source tree or at http://www.apache.org/licenses/LICENSE-2.0.<p>Any modifications or derivative works of this code must retain this<br>copyright notice, and modified files need to carry a notice indicating<br>that they have been altered from the originals.</p></div>"
      ],
      "text/plain": [
       "<IPython.core.display.HTML object>"
      ]
     },
     "metadata": {},
     "output_type": "display_data"
    }
   ],
   "source": [
    "import qiskit.tools.jupyter\n",
    "\n",
    "%qiskit_version_table\n",
    "%qiskit_copyright"
   ]
  }
 ],
 "metadata": {
  "kernelspec": {
   "display_name": "Python 3 (ipykernel)",
   "language": "python",
   "name": "python3"
  },
  "language_info": {
   "codemirror_mode": {
    "name": "ipython",
    "version": 3
   },
   "file_extension": ".py",
   "mimetype": "text/x-python",
   "name": "python",
   "nbconvert_exporter": "python",
   "pygments_lexer": "ipython3",
   "version": "3.9.7"
  },
  "toc": {
   "base_numbering": 1,
   "nav_menu": {},
   "number_sections": true,
   "sideBar": true,
   "skip_h1_title": false,
   "title_cell": "Table of Contents",
   "title_sidebar": "Contents",
   "toc_cell": false,
   "toc_position": {},
   "toc_section_display": true,
   "toc_window_display": false
  }
 },
 "nbformat": 4,
 "nbformat_minor": 5
}
